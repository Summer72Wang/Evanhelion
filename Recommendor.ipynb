{
 "cells": [
  {
   "cell_type": "code",
   "execution_count": 1,
   "id": "6f6c0613",
   "metadata": {},
   "outputs": [],
   "source": [
    "import json\n",
    "import pandas as pd"
   ]
  },
  {
   "cell_type": "code",
   "execution_count": 6,
   "id": "4265f7e0",
   "metadata": {},
   "outputs": [],
   "source": [
    "\n",
    "\n",
    "# Load the JSON data into Python\n",
    "with open('News_Category_Dataset_v3.json') as f:\n",
    "    data = f.readlines()\n",
    "\n",
    "# Flatten the JSON data into a tabular format using pandas\n",
    "df_list = []\n",
    "for d in data:\n",
    "    json_data = json.loads(d)\n",
    "    df = pd.json_normalize(json_data)\n",
    "    df_list.append(df)\n",
    "\n",
    "# Concatenate the tabular data into a single DataFrame\n",
    "df = pd.concat(df_list, ignore_index=True)\n",
    "\n",
    "# Export the tabular data to a CSV file\n",
    "df.to_csv('data.csv', index=False)\n"
   ]
  },
  {
   "cell_type": "code",
   "execution_count": 2,
   "id": "d88b3a9f",
   "metadata": {},
   "outputs": [
    {
     "data": {
      "text/html": [
       "<div>\n",
       "<style scoped>\n",
       "    .dataframe tbody tr th:only-of-type {\n",
       "        vertical-align: middle;\n",
       "    }\n",
       "\n",
       "    .dataframe tbody tr th {\n",
       "        vertical-align: top;\n",
       "    }\n",
       "\n",
       "    .dataframe thead th {\n",
       "        text-align: right;\n",
       "    }\n",
       "</style>\n",
       "<table border=\"1\" class=\"dataframe\">\n",
       "  <thead>\n",
       "    <tr style=\"text-align: right;\">\n",
       "      <th></th>\n",
       "      <th>link</th>\n",
       "      <th>headline</th>\n",
       "      <th>category</th>\n",
       "      <th>short_description</th>\n",
       "      <th>authors</th>\n",
       "      <th>date</th>\n",
       "    </tr>\n",
       "  </thead>\n",
       "  <tbody>\n",
       "    <tr>\n",
       "      <th>0</th>\n",
       "      <td>https://www.huffpost.com/entry/covid-boosters-...</td>\n",
       "      <td>Over 4 Million Americans Roll Up Sleeves For O...</td>\n",
       "      <td>U.S. NEWS</td>\n",
       "      <td>Health experts said it is too early to predict...</td>\n",
       "      <td>Carla K. Johnson, AP</td>\n",
       "      <td>23-09-2022</td>\n",
       "    </tr>\n",
       "    <tr>\n",
       "      <th>1</th>\n",
       "      <td>https://www.huffpost.com/entry/american-airlin...</td>\n",
       "      <td>American Airlines Flyer Charged, Banned For Li...</td>\n",
       "      <td>U.S. NEWS</td>\n",
       "      <td>He was subdued by passengers and crew when he ...</td>\n",
       "      <td>Mary Papenfuss</td>\n",
       "      <td>23-09-2022</td>\n",
       "    </tr>\n",
       "    <tr>\n",
       "      <th>2</th>\n",
       "      <td>https://www.huffpost.com/entry/funniest-tweets...</td>\n",
       "      <td>23 Of The Funniest Tweets About Cats And Dogs ...</td>\n",
       "      <td>COMEDY</td>\n",
       "      <td>\"Until you have a dog you don't understand wha...</td>\n",
       "      <td>Elyse Wanshel</td>\n",
       "      <td>23-09-2022</td>\n",
       "    </tr>\n",
       "    <tr>\n",
       "      <th>3</th>\n",
       "      <td>https://www.huffpost.com/entry/funniest-parent...</td>\n",
       "      <td>The Funniest Tweets From Parents This Week (Se...</td>\n",
       "      <td>PARENTING</td>\n",
       "      <td>\"Accidentally put grown-up toothpaste on my to...</td>\n",
       "      <td>Caroline Bologna</td>\n",
       "      <td>23-09-2022</td>\n",
       "    </tr>\n",
       "    <tr>\n",
       "      <th>4</th>\n",
       "      <td>https://www.huffpost.com/entry/amy-cooper-lose...</td>\n",
       "      <td>Woman Who Called Cops On Black Bird-Watcher Lo...</td>\n",
       "      <td>U.S. NEWS</td>\n",
       "      <td>Amy Cooper accused investment firm Franklin Te...</td>\n",
       "      <td>Nina Golgowski</td>\n",
       "      <td>22-09-2022</td>\n",
       "    </tr>\n",
       "  </tbody>\n",
       "</table>\n",
       "</div>"
      ],
      "text/plain": [
       "                                                link  \\\n",
       "0  https://www.huffpost.com/entry/covid-boosters-...   \n",
       "1  https://www.huffpost.com/entry/american-airlin...   \n",
       "2  https://www.huffpost.com/entry/funniest-tweets...   \n",
       "3  https://www.huffpost.com/entry/funniest-parent...   \n",
       "4  https://www.huffpost.com/entry/amy-cooper-lose...   \n",
       "\n",
       "                                            headline   category  \\\n",
       "0  Over 4 Million Americans Roll Up Sleeves For O...  U.S. NEWS   \n",
       "1  American Airlines Flyer Charged, Banned For Li...  U.S. NEWS   \n",
       "2  23 Of The Funniest Tweets About Cats And Dogs ...     COMEDY   \n",
       "3  The Funniest Tweets From Parents This Week (Se...  PARENTING   \n",
       "4  Woman Who Called Cops On Black Bird-Watcher Lo...  U.S. NEWS   \n",
       "\n",
       "                                   short_description               authors  \\\n",
       "0  Health experts said it is too early to predict...  Carla K. Johnson, AP   \n",
       "1  He was subdued by passengers and crew when he ...        Mary Papenfuss   \n",
       "2  \"Until you have a dog you don't understand wha...         Elyse Wanshel   \n",
       "3  \"Accidentally put grown-up toothpaste on my to...      Caroline Bologna   \n",
       "4  Amy Cooper accused investment firm Franklin Te...        Nina Golgowski   \n",
       "\n",
       "         date  \n",
       "0  23-09-2022  \n",
       "1  23-09-2022  \n",
       "2  23-09-2022  \n",
       "3  23-09-2022  \n",
       "4  22-09-2022  "
      ]
     },
     "execution_count": 2,
     "metadata": {},
     "output_type": "execute_result"
    }
   ],
   "source": [
    "data=pd.read_csv(\"data.csv\")\n",
    "data.head()"
   ]
  },
  {
   "cell_type": "code",
   "execution_count": 3,
   "id": "32b2de9e",
   "metadata": {},
   "outputs": [
    {
     "data": {
      "text/html": [
       "<div>\n",
       "<style scoped>\n",
       "    .dataframe tbody tr th:only-of-type {\n",
       "        vertical-align: middle;\n",
       "    }\n",
       "\n",
       "    .dataframe tbody tr th {\n",
       "        vertical-align: top;\n",
       "    }\n",
       "\n",
       "    .dataframe thead th {\n",
       "        text-align: right;\n",
       "    }\n",
       "</style>\n",
       "<table border=\"1\" class=\"dataframe\">\n",
       "  <thead>\n",
       "    <tr style=\"text-align: right;\">\n",
       "      <th></th>\n",
       "      <th>link</th>\n",
       "    </tr>\n",
       "  </thead>\n",
       "  <tbody>\n",
       "    <tr>\n",
       "      <th>0</th>\n",
       "      <td>https://www.huffpost.com/entry/covid-boosters-...</td>\n",
       "    </tr>\n",
       "    <tr>\n",
       "      <th>1</th>\n",
       "      <td>https://www.huffpost.com/entry/american-airlin...</td>\n",
       "    </tr>\n",
       "    <tr>\n",
       "      <th>2</th>\n",
       "      <td>https://www.huffpost.com/entry/funniest-tweets...</td>\n",
       "    </tr>\n",
       "    <tr>\n",
       "      <th>3</th>\n",
       "      <td>https://www.huffpost.com/entry/funniest-parent...</td>\n",
       "    </tr>\n",
       "    <tr>\n",
       "      <th>4</th>\n",
       "      <td>https://www.huffpost.com/entry/amy-cooper-lose...</td>\n",
       "    </tr>\n",
       "  </tbody>\n",
       "</table>\n",
       "</div>"
      ],
      "text/plain": [
       "                                                link\n",
       "0  https://www.huffpost.com/entry/covid-boosters-...\n",
       "1  https://www.huffpost.com/entry/american-airlin...\n",
       "2  https://www.huffpost.com/entry/funniest-tweets...\n",
       "3  https://www.huffpost.com/entry/funniest-parent...\n",
       "4  https://www.huffpost.com/entry/amy-cooper-lose..."
      ]
     },
     "execution_count": 3,
     "metadata": {},
     "output_type": "execute_result"
    }
   ],
   "source": [
    "links=data[[\"link\"]]\n",
    "links.head()"
   ]
  },
  {
   "cell_type": "code",
   "execution_count": 5,
   "id": "1f820784",
   "metadata": {},
   "outputs": [],
   "source": [
    "import numpy as np"
   ]
  },
  {
   "cell_type": "code",
   "execution_count": 6,
   "id": "f4a74cd8",
   "metadata": {},
   "outputs": [],
   "source": [
    "links=np.array(links)"
   ]
  },
  {
   "cell_type": "code",
   "execution_count": 7,
   "id": "4a03e081",
   "metadata": {},
   "outputs": [
    {
     "name": "stdout",
     "output_type": "stream",
     "text": [
      "(209527,)\n"
     ]
    }
   ],
   "source": [
    "links=np.squeeze(links)\n",
    "print(links.shape)"
   ]
  },
  {
   "cell_type": "code",
   "execution_count": 8,
   "id": "c797c567",
   "metadata": {},
   "outputs": [],
   "source": [
    "from bs4 import BeautifulSoup\n",
    "import requests"
   ]
  },
  {
   "cell_type": "code",
   "execution_count": 9,
   "id": "857be598",
   "metadata": {},
   "outputs": [
    {
     "name": "stdout",
     "output_type": "stream",
     "text": [
      "https://www.huffpost.com/entry/covid-boosters-uptake-us_n_632d719ee4b087fae6feaac9\n"
     ]
    }
   ],
   "source": [
    "link1=links[0]\n",
    "print(link1)"
   ]
  },
  {
   "cell_type": "code",
   "execution_count": 10,
   "id": "bc512bae",
   "metadata": {},
   "outputs": [
    {
     "name": "stdout",
     "output_type": "stream",
     "text": [
      "['U.S. health officials say 4.4 million Americans have rolled up their sleeves for the updated COVID-19 booster shot. The Centers for Disease Control and Prevention posted the count Thursday as public health experts bemoaned President Joe Biden’s recent remark that “the pandemic is over.”', 'The White House said more than 5 million people received the new boosters by its own estimate that accounts for reporting lags in states.', 'Health experts said it is too early to predict whether demand would match up with the 171 million doses of the new boosters the U.S. ordered for the fall.', '“No one would go looking at our flu shot uptake at this point and be like, ‘Oh, what a disaster,’” said Dr. David Dowdy, an infectious disease epidemiologist at Johns Hopkins Bloomberg School of Public Health. “If we start to see a large uptick in cases, I think we’re going to see a lot of people getting the (new COVID) vaccine.”', 'A temporary shortage of Moderna vaccine caused some pharmacies to cancel appointments while encouraging people to reschedule for a Pfizer vaccine. The issue was expected to resolve as government regulators wrapped up an inspection and cleared batches of vaccine doses for distribution.', '“I do expect this to pick up in the weeks ahead,” said White House COVID-19 coordinator Dr. Ashish Jha. “We’ve been thinking and talking about this as an annual vaccine like the flu vaccine. Flu vaccine season picks up in late September and early October. We’re just getting our education campaign going. So we expect to see, despite the fact that this was a strong start, we actually expect this to ramp up stronger.”', 'Some Americans who plan to get the shot, designed to target the most common omicron strains, said they are waiting because they either had COVID-19 recently or another booster. They are following public health advice to wait several months to get the full benefit of their existing virus-fighting antibodies.', 'Others are scheduling shots closer to holiday gatherings and winter months when respiratory viruses spread more easily.', 'Retired hospital chaplain Jeanie Murphy, 69, of Shawnee, Kansas, plans to get the new booster in a couple of weeks after she has some minor knee surgery. Interest is high among her neighbors from what she sees on the Nextdoor app.', '“There’s quite a bit of discussion happening among people who are ready to make appointments,” Murphy said. “I found that encouraging. For every one naysayer there will be 10 or 12 people who jump in and say, ‘You’re crazy. You just need to go get the shot.’”', 'Biden later acknowledged criticism of his remark about the pandemic being over and clarified the pandemic is “not where it was.” The initial comment didn’t bother Murphy. She believes the disease has entered a steady state when “we’ll get COVID shots in the fall the same as we do flu shots.”', 'Experts hope she’s right, but are waiting to see what levels of infection winter brings. The summer ebb in case numbers, hospitalizations and deaths may be followed by another surge, Dowdy said.', 'Dr. Anthony Fauci, asked Thursday by a panel of biodefense experts what still keeps him up at night, noted that half of vaccinated Americans never got an initial booster dose.', '“We have a vulnerability in our population that will continue to have us in a mode of potential disruption of our social order,” Fauci said. “I think that we have to do better as a nation.”', 'Some Americans who got the new shots said they are excited about the idea of targeting the vaccine to the variants circulating now.', '“Give me all the science you can,” said Jeff Westling, 30, an attorney in Washington, D.C., who got the new booster and a flu shot on Tuesday, one in each arm. He participates in the combat sport jujitsu, so wants to protect himself from infections that may come with close contact. “I have no issue trusting folks whose job it is to look at the evidence.”', 'Meanwhile, Biden’s pronouncement in a “60 Minutes” interview broadcast Sunday echoed through social media.', '“We still have a problem with COVID. We’re still doing a lot of work on it. But the pandemic is over,” Biden said while walking through the Detroit auto show. “If you notice, no one’s wearing masks. Everybody seems to be in pretty good shape. And so I think it’s changing.”', '“The pandemic is over. We still have a problem with COVID. We’re still doing a lot of work on it. But the pandemic is over,” President Biden tells 60 Minutes in an interview in Detroit. https://t.co/7SixTE3OMT pic.twitter.com/s5fyjRpYuX', 'By Wednesday on Facebook, when a Kansas health department posted where residents could find the new booster shots, the first commenter remarked snidely:', '“But Biden says the pandemic is over.”', 'The president’s statement, despite his attempts to clarify it, adds to public confusion, said Josh Michaud, associate director of global health policy with the Kaiser Family Foundation in Washington.', '“People aren’t sure when is the right time to get boosted. ‘Am I eligible?’ People are often confused about what the right choice is for them, even where to search for that information,” Michaud said.', '“Any time you have mixed messages, it’s detrimental to the public health effort,” Michaud said. “Having the mixed messages from the president’s remarks, makes that job that much harder.”', 'University of South Florida epidemiologist Jason Salemi said he’s worried the president’s pronouncement has taken on a life of its own and may stall prevention efforts.', '“That soundbite is there for a while now, and it’s going to spread like wildfire. And it’s going to give the impression that ‘Oh, there’s nothing more we need to do,’” Salemi said.', '“If we’re happy with 400 or 500 people dying every single day from COVID, there’s a problem with that,” Salemi said. “We can absolutely do better because most of those deaths, if not all of them, are absolutely preventable with the tools that we have.”', 'New York City photographer Vivienne Gucwa, 44, got the new booster Monday. She’s had COVID twice, once before vaccines were available and again in May. She was vaccinated with two Moderna shots, but never got the original boosters.', '“When I saw the new booster was able to tackle omicron variant I thought, ‘I’m doing that,’” Gucwa said.', '“I don’t want to deal with omicron again. I was kind of thrilled to see the boosters were updated.”', '___', 'AP Medical Writer Lauran Neergaard and AP White House Correspondent Zeke Miller contributed. ___', 'The Associated Press Health and Science Department receives support from the Howard Hughes Medical Institute’s Department of Science Education. The AP is solely responsible for all content.', \"By entering your email and clicking Sign Up, you're agreeing to let us send you customized marketing messages about us and our advertising partners. You are also agreeing to our Terms of Service and Privacy Policy.\"]\n"
     ]
    }
   ],
   "source": [
    "#get the news text for 1st news, do this for all the training article by\n",
    "#for loop the training set(links)\n",
    "response=requests.get(link1)\n",
    "soup = BeautifulSoup(response.content, 'html.parser')\n",
    "news_text = []\n",
    "paragraphs = soup.find_all('p')\n",
    "for p in paragraphs:\n",
    "    news_text.append(p.get_text())\n",
    "print(news_text)"
   ]
  },
  {
   "cell_type": "code",
   "execution_count": null,
   "id": "ddd49d4e",
   "metadata": {},
   "outputs": [],
   "source": []
  }
 ],
 "metadata": {
  "kernelspec": {
   "display_name": "Python 3 (ipykernel)",
   "language": "python",
   "name": "python3"
  },
  "language_info": {
   "codemirror_mode": {
    "name": "ipython",
    "version": 3
   },
   "file_extension": ".py",
   "mimetype": "text/x-python",
   "name": "python",
   "nbconvert_exporter": "python",
   "pygments_lexer": "ipython3",
   "version": "3.9.12"
  }
 },
 "nbformat": 4,
 "nbformat_minor": 5
}
